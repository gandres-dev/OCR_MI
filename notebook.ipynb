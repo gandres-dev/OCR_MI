{
 "cells": [
  {
   "cell_type": "code",
   "execution_count": 1,
   "metadata": {},
   "outputs": [],
   "source": [
    "import pdfplumber"
   ]
  },
  {
   "cell_type": "code",
   "execution_count": 6,
   "metadata": {},
   "outputs": [],
   "source": [
    "name_file = r\"Abarrotera el Duero 3 pages.pdf\""
   ]
  },
  {
   "cell_type": "code",
   "execution_count": 2,
   "metadata": {},
   "outputs": [
    {
     "name": "stderr",
     "output_type": "stream",
     "text": [
      "CropBox missing from /Page, defaulting to MediaBox\n",
      "CropBox missing from /Page, defaulting to MediaBox\n"
     ]
    },
    {
     "name": "stdout",
     "output_type": "stream",
     "text": [
      "📄 Página 1:\n",
      "Albert Einstein pronunciación en alemán: /ˈalbɐt ˈaɪnʃtaɪn/ (escucharⓘ);[2] (Ulm, Imperio\n",
      "alemán, 14 de marzo de 1879-Princeton, Estados Unidos, 18 de abril de 1955) fue un físico\n",
      "alemán de origen judío, nacionalizado después suizo, austriaco y estadounidense. Se le\n",
      "considera el científico más importante, conocido y popular del siglo XX.[3][4]\n",
      "Nombre Numero Letras\n",
      "Oscar 132 Me18\n",
      "Maria 456 HA78\n",
      "Leo 789 ML89\n",
      "En 1915, presentó la teoría de la relatividad general, en la que reformuló por completo\n",
      "el concepto de la gravedad.5 Una de las consecuencias fue el surgimiento del estudio\n",
      "[ ]\n",
      "científico del origen y la evolución del universo por la rama de la física\n",
      "denominada cosmología.\n",
      "\n"
     ]
    }
   ],
   "source": [
    "import pdfplumber\n",
    "\n",
    "with pdfplumber.open(name_file) as pdf:\n",
    "    for i, pagina in enumerate(pdf.pages):\n",
    "        texto = pagina.extract_text()\n",
    "        print(f\"📄 Página {i+1}:\\n{texto}\\n\")"
   ]
  },
  {
   "cell_type": "code",
   "execution_count": 7,
   "metadata": {},
   "outputs": [
    {
     "name": "stderr",
     "output_type": "stream",
     "text": [
      "CropBox missing from /Page, defaulting to MediaBox\n",
      "CropBox missing from /Page, defaulting to MediaBox\n",
      "CropBox missing from /Page, defaulting to MediaBox\n",
      "CropBox missing from /Page, defaulting to MediaBox\n",
      "CropBox missing from /Page, defaulting to MediaBox\n",
      "CropBox missing from /Page, defaulting to MediaBox\n"
     ]
    },
    {
     "name": "stdout",
     "output_type": "stream",
     "text": [
      "📋 Tabla 1 en página 1:\n",
      "['', 'Apartado', '', '', 'Semáforo', None, None, None, None, '', '', 'Apartado', '', '', 'Semáforo', None, None, None, '']\n",
      "['A. Descripción actual de la Empresa/Grupo', None, None, None, None, None, '(Verde)', '', None, None, 'E. Estructura y destino del crédito', None, None, '', '(Amarillo)', None, None, '', '']\n",
      "['B. Sector', None, None, '', '', None, '(Verde)', '', None, '', 'F. Factores de Riesgo y Mitigantes', None, None, '', '(Amarillo)', None, None, '', '']\n",
      "['C. Experiencia de cliente', None, None, '', '', '(Amarillo)', None, None, '', '', 'G. Opinión de Negocio', None, None, '', '', '(Verde)', '', None, '']\n",
      "['D. Interpretación y análisis financiero', None, None, '', '', '(Amarillo)', None, None, '', '', 'H. Opinión de Crédito', None, None, '', '(Amarillo)', None, None, '', '']\n",
      "📋 Tabla 2 en página 1:\n",
      "['', 'A. Descripción actual de la Empresa / Grupo', '']\n",
      "📋 Tabla 3 en página 1:\n",
      "['ACCIONISTAS', 'ACCIONES', None, 'IMPORTE', '%']\n",
      "['', 'CAPITAL FIJO', 'CAPITAL VARIABLE', '', '']\n",
      "['', 'SERIE \"A\"', 'SERIE \"B\"', '', '']\n",
      "['Copropiedad', '', '', '', '']\n",
      "['Gerardo Valdés Vega', '', '', '', '']\n",
      "['Mario Valdés Vega', '800', '2,330,226', '$2,331,026', '2.33%']\n",
      "['Guillermo Valdés Vega', '', '', '', '']\n",
      "['Rosa Lucila Valdez Vega', '', '', '', '']\n",
      "['', '', '', '', '']\n",
      "['Rosa Lucila Valdez Vega', '1,000', '2,889,543', '$2,890,543', '2.89%']\n",
      "['Mario Valdés Vega', '1,000', '2,889,543', '$2,890,543', '2.89%']\n",
      "['Valdés M Corporativo Sa de CV', '47,200', '87,552,800', '$91,890,000', '91.89%']\n",
      "['Total', '50,000', '95,662,112', '$100,002,112', '100.00%']\n",
      "📋 Tabla 1 en página 3:\n",
      "['Guillermo Valdes Vega', 'Presidente']\n",
      "['Guillermo Valdes Medina', 'Secretario']\n",
      "['Haydee Valdés Medina', 'Tesorero']\n",
      "['Diana Maria Valdes Medina', 'Vocal']\n",
      "📋 Tabla 2 en página 3:\n",
      "['Nombre', 'Puesto', 'Formación académica', '', 'Antigüedad en', '', '', 'Experiencia', '']\n",
      "[None, None, None, None, 'la Empresa', None, None, 'en el Ramo', None]\n",
      "['Guillermo Valdés Vega', 'Director General', 'LAE (IBERO)', '43 años', None, None, '45 años', None, None]\n",
      "['Rogelio Mora Magallón', 'Director Autoservicios', '----', '58 años', None, None, '58 años', None, None]\n",
      "['José Francisco Arias Valdés', 'Director de compras', 'LAE (ITESO)', '29 años', None, None, '29 años', None, None]\n",
      "['Ramón de Jesús Medina Cerecer', 'Director Administrativo', 'Ingeniero Químico', '30 años', None, None, '30 años', None, None]\n",
      "['Jose Alfredo Flores Castellanos', 'Director de Finanzas', 'Contador Público', '5 años', None, None, '23 años', None, None]\n",
      "['Gabriela Arias Valdez', 'Tesorería', 'Contador Público', '27 años', None, None, '27 años', None, None]\n"
     ]
    }
   ],
   "source": [
    "import pdfplumber\n",
    "\n",
    "with pdfplumber.open(name_file) as pdf:\n",
    "    for i, pagina in enumerate(pdf.pages):\n",
    "        tablas = pagina.extract_tables()\n",
    "        for j, tabla in enumerate(tablas):\n",
    "            print(f\"📋 Tabla {j+1} en página {i+1}:\")\n",
    "            for fila in tabla:\n",
    "                print(fila)\n"
   ]
  }
 ],
 "metadata": {
  "kernelspec": {
   "display_name": "Python 3",
   "language": "python",
   "name": "python3"
  },
  "language_info": {
   "codemirror_mode": {
    "name": "ipython",
    "version": 3
   },
   "file_extension": ".py",
   "mimetype": "text/x-python",
   "name": "python",
   "nbconvert_exporter": "python",
   "pygments_lexer": "ipython3",
   "version": "3.12.1"
  }
 },
 "nbformat": 4,
 "nbformat_minor": 2
}
